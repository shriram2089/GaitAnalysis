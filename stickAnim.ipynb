{
 "cells": [
  {
   "cell_type": "code",
   "execution_count": 1,
   "id": "24997b29-9db6-4f41-aeb5-eb201a1435ba",
   "metadata": {
    "tags": []
   },
   "outputs": [],
   "source": [
    "import numpy as np\n",
    "import matplotlib.pyplot as plt\n",
    "from matplotlib.animation import FuncAnimation\n"
   ]
  },
  {
   "cell_type": "code",
   "execution_count": 10,
   "id": "03c60592-1907-4028-aa0f-3f37fae9f1b1",
   "metadata": {
    "tags": []
   },
   "outputs": [],
   "source": [
    "# Update function for animation\n",
    "def update(frame):\n",
    "    # Simulate some movement in the legs (simple pendulum motion for demonstration)\n",
    "    angle = np.sin(frame * 0.1) * 0.5\n",
    "    \n",
    "    # Update left leg\n",
    "    left_leg[1, 1] = -0.5 + np.cos(angle) * 0.5\n",
    "    left_leg[2, 1] = -1.5 + np.sin(angle) * 0.5\n",
    "    \n",
    "    # Update right leg\n",
    "    right_leg[1, 1] = -0.5 + np.cos(angle + np.pi) * 0.5\n",
    "    right_leg[2, 1] = -1.5 + np.sin(angle + np.pi) * 0.5\n",
    "\n",
    "    # Update the line data\n",
    "    left_leg_line.set_data(left_leg[:, 0], left_leg[:, 1])\n",
    "    right_leg_line.set_data(right_leg[:, 0], right_leg[:, 1])\n",
    "    \n",
    "    return left_leg_line, right_leg_line"
   ]
  },
  {
   "cell_type": "code",
   "execution_count": 11,
   "id": "56a85fd8-4ac3-4274-8228-decd5b204821",
   "metadata": {
    "tags": []
   },
   "outputs": [
    {
     "data": {
      "image/png": "[encoded data removed]",
      "text/plain": [
       "<Figure size 640x480 with 1 Axes>"
      ]
     },
     "metadata": {},
     "output_type": "display_data"
    }
   ],
   "source": [
    "import numpy as np\n",
    "import matplotlib.pyplot as plt\n",
    "from matplotlib.animation import FuncAnimation\n",
    "\n",
    "# Set up the figure and axis\n",
    "fig, ax = plt.subplots()\n",
    "ax.set_xlim(0, 4)\n",
    "ax.set_ylim(-2, 2)\n",
    "\n",
    "# Initial coordinates of the legs (3 points per leg from the side view)\n",
    "left_leg = np.array([[1, 0], [1, -0.5], [1, -1.5]])\n",
    "right_leg = np.array([[2, 0], [2, -0.5], [2, -1.5]])\n",
    "\n",
    "# Create line objects for legs\n",
    "left_leg_line, = ax.plot(left_leg[:, 0], left_leg[:, 1], 'bo-')\n",
    "right_leg_line, = ax.plot(right_leg[:, 0], right_leg[:, 1], 'ro-')\n",
    "\n",
    "\n",
    "\n",
    "# Create the animation\n",
    "ani = FuncAnimation(fig, update, frames=100, interval=50, blit=True)\n",
    "\n",
    "# Display the animation\n",
    "plt.show()\n"
   ]
  },
  {
   "cell_type": "code",
   "execution_count": null,
   "id": "04412fd7-a69b-445f-b34e-ada6562bca0b",
   "metadata": {},
   "outputs": [],
   "source": []
  }
 ],
 "metadata": {
  "kernelspec": {
   "display_name": "gpu_main",
   "language": "python",
   "name": "gpu_main"
  },
  "language_info": {
   "codemirror_mode": {
    "name": "ipython",
    "version": 3
   },
   "file_extension": ".py",
   "mimetype": "text/x-python",
   "name": "python",
   "nbconvert_exporter": "python",
   "pygments_lexer": "ipython3",
   "version": "3.9.19"
  }
 },
 "nbformat": 4,
 "nbformat_minor": 5
}
